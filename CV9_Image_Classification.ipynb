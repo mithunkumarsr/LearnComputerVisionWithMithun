{
  "nbformat": 4,
  "nbformat_minor": 0,
  "metadata": {
    "colab": {
      "provenance": [],
      "authorship_tag": "ABX9TyPUI3OMU+SsiZMy/tdTczWY",
      "include_colab_link": true
    },
    "kernelspec": {
      "name": "python3",
      "display_name": "Python 3"
    },
    "language_info": {
      "name": "python"
    }
  },
  "cells": [
    {
      "cell_type": "markdown",
      "metadata": {
        "id": "view-in-github",
        "colab_type": "text"
      },
      "source": [
        "<a href=\"https://colab.research.google.com/github/mithunkumarsr/LearnComputerVisionWithMithun/blob/main/CV9_Image_Classification.ipynb\" target=\"_parent\"><img src=\"https://colab.research.google.com/assets/colab-badge.svg\" alt=\"Open In Colab\"/></a>"
      ]
    },
    {
      "cell_type": "code",
      "execution_count": 1,
      "metadata": {
        "colab": {
          "base_uri": "https://localhost:8080/"
        },
        "id": "IHjYNHPKUnO_",
        "outputId": "d1812b4a-9bfc-4516-c679-cc35975da28d"
      },
      "outputs": [
        {
          "output_type": "stream",
          "name": "stdout",
          "text": [
            "Requirement already satisfied: torch in /usr/local/lib/python3.11/dist-packages (2.5.1+cu121)\n",
            "Requirement already satisfied: torchvision in /usr/local/lib/python3.11/dist-packages (0.20.1+cu121)\n",
            "Requirement already satisfied: matplotlib in /usr/local/lib/python3.11/dist-packages (3.10.0)\n",
            "Requirement already satisfied: numpy in /usr/local/lib/python3.11/dist-packages (1.26.4)\n",
            "Requirement already satisfied: scikit-learn in /usr/local/lib/python3.11/dist-packages (1.6.1)\n",
            "Requirement already satisfied: filelock in /usr/local/lib/python3.11/dist-packages (from torch) (3.17.0)\n",
            "Requirement already satisfied: typing-extensions>=4.8.0 in /usr/local/lib/python3.11/dist-packages (from torch) (4.12.2)\n",
            "Requirement already satisfied: networkx in /usr/local/lib/python3.11/dist-packages (from torch) (3.4.2)\n",
            "Requirement already satisfied: jinja2 in /usr/local/lib/python3.11/dist-packages (from torch) (3.1.5)\n",
            "Requirement already satisfied: fsspec in /usr/local/lib/python3.11/dist-packages (from torch) (2024.10.0)\n",
            "Requirement already satisfied: nvidia-cuda-nvrtc-cu12==12.1.105 in /usr/local/lib/python3.11/dist-packages (from torch) (12.1.105)\n",
            "Requirement already satisfied: nvidia-cuda-runtime-cu12==12.1.105 in /usr/local/lib/python3.11/dist-packages (from torch) (12.1.105)\n",
            "Requirement already satisfied: nvidia-cuda-cupti-cu12==12.1.105 in /usr/local/lib/python3.11/dist-packages (from torch) (12.1.105)\n",
            "Requirement already satisfied: nvidia-cudnn-cu12==9.1.0.70 in /usr/local/lib/python3.11/dist-packages (from torch) (9.1.0.70)\n",
            "Requirement already satisfied: nvidia-cublas-cu12==12.1.3.1 in /usr/local/lib/python3.11/dist-packages (from torch) (12.1.3.1)\n",
            "Requirement already satisfied: nvidia-cufft-cu12==11.0.2.54 in /usr/local/lib/python3.11/dist-packages (from torch) (11.0.2.54)\n",
            "Requirement already satisfied: nvidia-curand-cu12==10.3.2.106 in /usr/local/lib/python3.11/dist-packages (from torch) (10.3.2.106)\n",
            "Requirement already satisfied: nvidia-cusolver-cu12==11.4.5.107 in /usr/local/lib/python3.11/dist-packages (from torch) (11.4.5.107)\n",
            "Requirement already satisfied: nvidia-cusparse-cu12==12.1.0.106 in /usr/local/lib/python3.11/dist-packages (from torch) (12.1.0.106)\n",
            "Requirement already satisfied: nvidia-nccl-cu12==2.21.5 in /usr/local/lib/python3.11/dist-packages (from torch) (2.21.5)\n",
            "Requirement already satisfied: nvidia-nvtx-cu12==12.1.105 in /usr/local/lib/python3.11/dist-packages (from torch) (12.1.105)\n",
            "Requirement already satisfied: triton==3.1.0 in /usr/local/lib/python3.11/dist-packages (from torch) (3.1.0)\n",
            "Requirement already satisfied: sympy==1.13.1 in /usr/local/lib/python3.11/dist-packages (from torch) (1.13.1)\n",
            "Requirement already satisfied: nvidia-nvjitlink-cu12 in /usr/local/lib/python3.11/dist-packages (from nvidia-cusolver-cu12==11.4.5.107->torch) (12.6.85)\n",
            "Requirement already satisfied: mpmath<1.4,>=1.1.0 in /usr/local/lib/python3.11/dist-packages (from sympy==1.13.1->torch) (1.3.0)\n",
            "Requirement already satisfied: pillow!=8.3.*,>=5.3.0 in /usr/local/lib/python3.11/dist-packages (from torchvision) (11.1.0)\n",
            "Requirement already satisfied: contourpy>=1.0.1 in /usr/local/lib/python3.11/dist-packages (from matplotlib) (1.3.1)\n",
            "Requirement already satisfied: cycler>=0.10 in /usr/local/lib/python3.11/dist-packages (from matplotlib) (0.12.1)\n",
            "Requirement already satisfied: fonttools>=4.22.0 in /usr/local/lib/python3.11/dist-packages (from matplotlib) (4.55.4)\n",
            "Requirement already satisfied: kiwisolver>=1.3.1 in /usr/local/lib/python3.11/dist-packages (from matplotlib) (1.4.8)\n",
            "Requirement already satisfied: packaging>=20.0 in /usr/local/lib/python3.11/dist-packages (from matplotlib) (24.2)\n",
            "Requirement already satisfied: pyparsing>=2.3.1 in /usr/local/lib/python3.11/dist-packages (from matplotlib) (3.2.1)\n",
            "Requirement already satisfied: python-dateutil>=2.7 in /usr/local/lib/python3.11/dist-packages (from matplotlib) (2.8.2)\n",
            "Requirement already satisfied: scipy>=1.6.0 in /usr/local/lib/python3.11/dist-packages (from scikit-learn) (1.13.1)\n",
            "Requirement already satisfied: joblib>=1.2.0 in /usr/local/lib/python3.11/dist-packages (from scikit-learn) (1.4.2)\n",
            "Requirement already satisfied: threadpoolctl>=3.1.0 in /usr/local/lib/python3.11/dist-packages (from scikit-learn) (3.5.0)\n",
            "Requirement already satisfied: six>=1.5 in /usr/local/lib/python3.11/dist-packages (from python-dateutil>=2.7->matplotlib) (1.17.0)\n",
            "Requirement already satisfied: MarkupSafe>=2.0 in /usr/local/lib/python3.11/dist-packages (from jinja2->torch) (3.0.2)\n"
          ]
        }
      ],
      "source": [
        "pip install torch torchvision matplotlib numpy scikit-learn\n"
      ]
    },
    {
      "cell_type": "code",
      "source": [
        "import torchvision.transforms as transforms\n",
        "from torchvision.datasets import CIFAR10\n",
        "from torch.utils.data import DataLoader, random_split\n",
        "\n",
        "# Transform to normalize and convert to tensors\n",
        "transform = transforms.Compose([\n",
        "    transforms.ToTensor(),\n",
        "    transforms.Normalize((0.5, 0.5, 0.5), (0.5, 0.5, 0.5))\n",
        "])\n",
        "\n",
        "# Download CIFAR-10 dataset\n",
        "dataset = CIFAR10(root='./data', train=True, transform=transform, download=True)\n",
        "test_set = CIFAR10(root='./data', train=False, transform=transform, download=True)\n",
        "\n",
        "# Split dataset into training and validation\n",
        "train_set, val_set = random_split(dataset, [40000, 10000])\n",
        "\n",
        "# Data loaders\n",
        "train_loader = DataLoader(train_set, batch_size=64, shuffle=True)\n",
        "val_loader = DataLoader(val_set, batch_size=64, shuffle=False)\n",
        "test_loader = DataLoader(test_set, batch_size=64, shuffle=False)\n"
      ],
      "metadata": {
        "colab": {
          "base_uri": "https://localhost:8080/"
        },
        "id": "_lmaU9szUwro",
        "outputId": "3466cb3a-060f-494d-e7e7-d7b04c5545da"
      },
      "execution_count": 2,
      "outputs": [
        {
          "output_type": "stream",
          "name": "stdout",
          "text": [
            "Downloading https://www.cs.toronto.edu/~kriz/cifar-10-python.tar.gz to ./data/cifar-10-python.tar.gz\n"
          ]
        },
        {
          "output_type": "stream",
          "name": "stderr",
          "text": [
            "100%|██████████| 170M/170M [00:02<00:00, 80.9MB/s]\n"
          ]
        },
        {
          "output_type": "stream",
          "name": "stdout",
          "text": [
            "Extracting ./data/cifar-10-python.tar.gz to ./data\n",
            "Files already downloaded and verified\n"
          ]
        }
      ]
    },
    {
      "cell_type": "markdown",
      "source": [
        "Nearest neighbour\n"
      ],
      "metadata": {
        "id": "wTEB-zxKU1pk"
      }
    },
    {
      "cell_type": "code",
      "source": [
        "import numpy as np\n",
        "\n",
        "# Reduce dataset size for simplicity\n",
        "small_train_set, _ = random_split(train_set, [1000, len(train_set) - 1000])\n",
        "small_test_set, _ = random_split(test_set, [100, len(test_set) - 100])\n"
      ],
      "metadata": {
        "id": "qewaFxciU4YT"
      },
      "execution_count": 3,
      "outputs": []
    },
    {
      "cell_type": "code",
      "source": [
        "from sklearn.metrics import accuracy_score\n",
        "\n",
        "def nearest_neighbor(train_data, train_labels, test_data):\n",
        "    predictions = []\n",
        "    for test_img in test_data:\n",
        "        distances = np.linalg.norm(train_data - test_img, axis=1)\n",
        "        nearest_index = np.argmin(distances)\n",
        "        predictions.append(train_labels[nearest_index])\n",
        "    return np.array(predictions)\n",
        "\n",
        "# Prepare data\n",
        "train_data = np.array([img[0].numpy().flatten() for img, _ in small_train_set])\n",
        "train_labels = np.array([label for _, label in small_train_set])\n",
        "test_data = np.array([img[0].numpy().flatten() for img, _ in small_test_set])\n",
        "test_labels = np.array([label for _, label in small_test_set])\n",
        "\n",
        "# Predict using Nearest Neighbor\n",
        "predictions = nearest_neighbor(train_data, train_labels, test_data)\n",
        "print(\"Nearest Neighbor Accuracy:\", accuracy_score(test_labels, predictions))\n"
      ],
      "metadata": {
        "colab": {
          "base_uri": "https://localhost:8080/"
        },
        "id": "KqfU8a4uU5n5",
        "outputId": "dc426aaf-a18c-4de6-e8ac-01ba90fb2648"
      },
      "execution_count": 4,
      "outputs": [
        {
          "output_type": "stream",
          "name": "stdout",
          "text": [
            "Nearest Neighbor Accuracy: 0.2\n"
          ]
        }
      ]
    },
    {
      "cell_type": "markdown",
      "source": [
        "Linear Classifier"
      ],
      "metadata": {
        "id": "H0SIVR8NU9Hg"
      }
    },
    {
      "cell_type": "code",
      "source": [
        "import torch\n",
        "import torch.nn as nn\n",
        "\n",
        "class LinearClassifier(nn.Module):\n",
        "    def __init__(self, input_dim, num_classes):\n",
        "        super(LinearClassifier, self).__init__()\n",
        "        self.fc = nn.Linear(input_dim, num_classes)\n",
        "\n",
        "    def forward(self, x):\n",
        "        return self.fc(x)\n",
        "\n",
        "model = LinearClassifier(32 * 32 * 3, 10)\n"
      ],
      "metadata": {
        "id": "ooxIFF_JU_P0"
      },
      "execution_count": 5,
      "outputs": []
    },
    {
      "cell_type": "code",
      "source": [
        "import torch.optim as optim\n",
        "\n",
        "# Loss and optimizer\n",
        "criterion = nn.CrossEntropyLoss()\n",
        "optimizer = optim.SGD(model.parameters(), lr=0.01)\n",
        "\n",
        "# Training loop\n",
        "for epoch in range(5):\n",
        "    total_loss = 0\n",
        "    for images, labels in train_loader:\n",
        "        images = images.view(images.size(0), -1)  # Flatten the images\n",
        "        optimizer.zero_grad()\n",
        "        outputs = model(images)\n",
        "        loss = criterion(outputs, labels)\n",
        "        loss.backward()\n",
        "        optimizer.step()\n",
        "        total_loss += loss.item()\n",
        "    print(f\"Epoch {epoch+1}, Loss: {total_loss:.4f}\")\n"
      ],
      "metadata": {
        "colab": {
          "base_uri": "https://localhost:8080/"
        },
        "id": "44fOW8jrVDEk",
        "outputId": "c9fdf91b-fe83-41d5-a003-6ab7fb4a1bfd"
      },
      "execution_count": 6,
      "outputs": [
        {
          "output_type": "stream",
          "name": "stdout",
          "text": [
            "Epoch 1, Loss: 1157.1256\n",
            "Epoch 2, Loss: 1101.5522\n",
            "Epoch 3, Loss: 1083.0865\n",
            "Epoch 4, Loss: 1071.8369\n",
            "Epoch 5, Loss: 1063.3982\n"
          ]
        }
      ]
    },
    {
      "cell_type": "code",
      "source": [
        "def evaluate(model, data_loader):\n",
        "    correct = 0\n",
        "    total = 0\n",
        "    with torch.no_grad():\n",
        "        for images, labels in data_loader:\n",
        "            images = images.view(images.size(0), -1)  # Flatten\n",
        "            outputs = model(images)\n",
        "            _, predicted = torch.max(outputs, 1)\n",
        "            total += labels.size(0)\n",
        "            correct += (predicted == labels).sum().item()\n",
        "    return correct / total\n",
        "\n",
        "print(\"Validation Accuracy:\", evaluate(model, val_loader))\n",
        "print(\"Test Accuracy:\", evaluate(model, test_loader))\n"
      ],
      "metadata": {
        "colab": {
          "base_uri": "https://localhost:8080/"
        },
        "id": "gvPlkuBJVK88",
        "outputId": "79bce35c-903f-4a55-aed3-1478011a7f63"
      },
      "execution_count": 7,
      "outputs": [
        {
          "output_type": "stream",
          "name": "stdout",
          "text": [
            "Validation Accuracy: 0.4078\n",
            "Test Accuracy: 0.404\n"
          ]
        }
      ]
    },
    {
      "cell_type": "markdown",
      "source": [
        "# Student Tasks\n",
        "\n",
        "\n",
        "**Nearest Neighbor Classifier: **\n",
        "\n",
        "Modify the nearest neighbor implementation to use a weighted distance metric.\n",
        "Experiment with different sizes of the training dataset and observe accuracy changes.\n",
        "\n",
        "\n",
        "**Linear Classifier:**\n",
        "\n",
        "Add L2 regularization (weight decay) to the optimizer.\n",
        "Increase the number of epochs and learning rate to see how accuracy improves.\n",
        "Explore More:\n",
        "\n",
        "Visualize a few misclassified images with their predicted and actual labels.\n",
        "Implement a softmax-based probability score visualization for a few test images."
      ],
      "metadata": {
        "id": "-oSOe-kmVPAm"
      }
    },
    {
      "cell_type": "code",
      "source": [
        "from torchvision import datasets, transforms\n",
        "from torch.utils.data import random_split, DataLoader\n",
        "\n",
        "# Load CIFAR-10 dataset\n",
        "transform = transforms.Compose([transforms.ToTensor(), transforms.Normalize((0.5,), (0.5,))])\n",
        "dataset = datasets.CIFAR10(root='./data', train=True, transform=transform, download=True)\n",
        "\n",
        "# Split dataset\n",
        "train_size = int(0.6 * len(dataset))\n",
        "val_size = int(0.2 * len(dataset))\n",
        "test_size = len(dataset) - train_size - val_size\n",
        "train_set, val_set, test_set = random_split(dataset, [train_size, val_size, test_size])\n",
        "\n",
        "# Create data loaders\n",
        "train_loader = DataLoader(train_set, batch_size=64, shuffle=True)\n",
        "val_loader = DataLoader(val_set, batch_size=64, shuffle=False)\n",
        "test_loader = DataLoader(test_set, batch_size=64, shuffle=False)\n"
      ],
      "metadata": {
        "colab": {
          "base_uri": "https://localhost:8080/"
        },
        "id": "Yey3qtKfZK0Q",
        "outputId": "1ff2beee-ba19-4aad-e2e8-219dd5351d4a"
      },
      "execution_count": 8,
      "outputs": [
        {
          "output_type": "stream",
          "name": "stdout",
          "text": [
            "Files already downloaded and verified\n"
          ]
        }
      ]
    },
    {
      "cell_type": "code",
      "source": [
        "import numpy as np\n",
        "from sklearn.metrics import accuracy_score\n",
        "\n",
        "# Prepare data\n",
        "train_data = np.array([img[0].numpy().flatten() for img, _ in train_set])\n",
        "train_labels = np.array([label for _, label in train_set])\n",
        "test_data = np.array([img[0].numpy().flatten() for img, _ in test_set])\n",
        "test_labels = np.array([label for _, label in test_set])\n",
        "\n",
        "# Compute Euclidean distance\n",
        "def knn_predict(train_data, train_labels, test_data, k=3):\n",
        "    predictions = []\n",
        "    for test_img in test_data:\n",
        "        distances = np.linalg.norm(train_data - test_img, axis=1)\n",
        "        nearest_indices = np.argsort(distances)[:k]\n",
        "        nearest_labels = train_labels[nearest_indices]\n",
        "        predictions.append(np.bincount(nearest_labels).argmax())\n",
        "    return predictions\n",
        "\n",
        "# Predict and evaluate\n",
        "predictions = knn_predict(train_data[:1000], train_labels[:1000], test_data[:100], k=3)\n",
        "print(\"kNN Accuracy:\", accuracy_score(test_labels[:100], predictions))\n"
      ],
      "metadata": {
        "colab": {
          "base_uri": "https://localhost:8080/"
        },
        "id": "5IBb_AanZN2-",
        "outputId": "d44bf031-4011-4382-a0e9-3bdf2f4ab6ae"
      },
      "execution_count": 9,
      "outputs": [
        {
          "output_type": "stream",
          "name": "stdout",
          "text": [
            "kNN Accuracy: 0.19\n"
          ]
        }
      ]
    },
    {
      "cell_type": "code",
      "source": [
        "import torch\n",
        "import torch.nn as nn\n",
        "import torch.optim as optim\n",
        "\n",
        "# Linear classifier model\n",
        "class LinearClassifier(nn.Module):\n",
        "    def __init__(self, input_dim, num_classes):\n",
        "        super(LinearClassifier, self).__init__()\n",
        "        self.fc = nn.Linear(input_dim, num_classes)\n",
        "\n",
        "    def forward(self, x):\n",
        "        return self.fc(x)\n",
        "\n",
        "# Initialize model\n",
        "model = LinearClassifier(32 * 32 * 3, 10)\n",
        "\n",
        "# Loss and optimizer\n",
        "criterion = nn.CrossEntropyLoss()\n",
        "optimizer = optim.SGD(model.parameters(), lr=0.01)\n",
        "\n",
        "# Training loop\n",
        "for epoch in range(5):\n",
        "    total_loss = 0\n",
        "    for images, labels in train_loader:\n",
        "        images = images.view(images.size(0), -1)  # Flatten\n",
        "        optimizer.zero_grad()\n",
        "        outputs = model(images)\n",
        "        loss = criterion(outputs, labels)\n",
        "        loss.backward()\n",
        "        optimizer.step()\n",
        "        total_loss += loss.item()\n",
        "    print(f\"Epoch {epoch+1}, Loss: {total_loss:.4f}\")\n"
      ],
      "metadata": {
        "colab": {
          "base_uri": "https://localhost:8080/"
        },
        "id": "NGvS6XjRZO7I",
        "outputId": "924dd3a8-ce20-4757-aea4-ddf301ea9cd1"
      },
      "execution_count": 10,
      "outputs": [
        {
          "output_type": "stream",
          "name": "stdout",
          "text": [
            "Epoch 1, Loss: 879.5060\n",
            "Epoch 2, Loss: 834.2870\n",
            "Epoch 3, Loss: 818.8974\n",
            "Epoch 4, Loss: 809.1496\n",
            "Epoch 5, Loss: 802.3449\n"
          ]
        }
      ]
    },
    {
      "cell_type": "code",
      "source": [
        "# Example: Tuning k for kNN\n",
        "k_values = [1, 3, 5, 7]\n",
        "accuracies = []\n",
        "for k in k_values:\n",
        "    predictions = knn_predict(train_data[:1000], train_labels[:1000], test_data[:100], k=k)\n",
        "    acc = accuracy_score(test_labels[:100], predictions)\n",
        "    accuracies.append(acc)\n",
        "\n",
        "print(\"Accuracies for k values:\", dict(zip(k_values, accuracies)))\n"
      ],
      "metadata": {
        "colab": {
          "base_uri": "https://localhost:8080/"
        },
        "id": "kuaJQ7rMZUB3",
        "outputId": "1954009f-ee5e-4e50-accb-e027c2a5bbc8"
      },
      "execution_count": 11,
      "outputs": [
        {
          "output_type": "stream",
          "name": "stdout",
          "text": [
            "Accuracies for k values: {1: 0.22, 3: 0.19, 5: 0.16, 7: 0.2}\n"
          ]
        }
      ]
    },
    {
      "cell_type": "code",
      "source": [
        "import matplotlib.pyplot as plt\n",
        "\n",
        "# Get misclassified images\n",
        "predictions = knn_predict(train_data[:1000], train_labels[:1000], test_data[:100], k=3)\n",
        "misclassified = [(img, pred, true) for img, pred, true in zip(test_data, predictions, test_labels[:100]) if pred != true]\n",
        "\n",
        "# Display a few misclassified examples\n",
        "for i, (img, pred, true) in enumerate(misclassified[:5]):\n",
        "    plt.imshow(img.reshape(32, 32, 3))\n",
        "    plt.title(f\"Predicted: {pred}, True: {true}\")\n",
        "    plt.show()\n"
      ],
      "metadata": {
        "id": "o0JipATrZWNF"
      },
      "execution_count": null,
      "outputs": []
    },
    {
      "cell_type": "code",
      "source": [
        "# Compare kNN and Linear Classifier\n",
        "print(\"kNN Accuracy:\", accuracy_score(test_labels[:100], knn_predict(train_data[:1000], train_labels[:1000], test_data[:100], k=3)))\n",
        "print(\"Linear Classifier Accuracy:\", evaluate(model, test_loader))\n"
      ],
      "metadata": {
        "id": "Zh-aP1w8ZYfN"
      },
      "execution_count": null,
      "outputs": []
    },
    {
      "cell_type": "code",
      "source": [
        "from sklearn.decomposition import PCA\n",
        "import seaborn as sns\n",
        "\n",
        "# Reduce data to 2D using PCA\n",
        "pca = PCA(n_components=2)\n",
        "reduced_train_data = pca.fit_transform(train_data[:1000])\n",
        "reduced_test_data = pca.transform(test_data[:100])\n",
        "\n",
        "# Visualize decision boundaries for kNN\n",
        "sns.scatterplot(x=reduced_train_data[:, 0], y=reduced_train_data[:, 1], hue=train_labels[:1000], palette=\"tab10\")\n",
        "plt.title(\"kNN Decision Boundaries\")\n",
        "plt.show()\n"
      ],
      "metadata": {
        "id": "miogwBuAZaTn"
      },
      "execution_count": null,
      "outputs": []
    }
  ]
}